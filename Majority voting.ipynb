{
 "cells": [
  {
   "cell_type": "code",
   "execution_count": 1,
   "id": "34b49f3e",
   "metadata": {},
   "outputs": [],
   "source": [
    "# Load VGG16 and ResNet models\n",
    "from tensorflow.keras.models import load_model\n",
    "vgg16_model = load_model('vgg16.h5')\n",
    "resnet_model = load_model('resnet.h5')\n",
    "capsnet_model = load_model('capsnet.h5')"
   ]
  },
  {
   "cell_type": "code",
   "execution_count": 2,
   "id": "034b59b3",
   "metadata": {},
   "outputs": [],
   "source": [
    "# re-size all the images to standard size 224 x 224\n",
    "IMAGE_SIZE = [224, 224]\n",
    "\n",
    "# specifying path for train and test data folders\n",
    "train_path = 'C:/Ajay/documents/Major project/data/train'\n",
    "valid_path = 'C:/Ajay/documents/Major project/data/test'"
   ]
  },
  {
   "cell_type": "code",
   "execution_count": 3,
   "id": "e248bdb7",
   "metadata": {},
   "outputs": [],
   "source": [
    "# Image Data Generator to import the images from the dataset\n",
    "from keras.preprocessing.image import ImageDataGenerator\n",
    "# Addition of data-augmentation parameters to ImageDataGenerator\n",
    "train_datagen = ImageDataGenerator(rescale = 1./255,\n",
    "                                   shear_range = 0.2,\n",
    "                                   zoom_range = 0.2,\n",
    "                                   width_shift_range = 0.2,\n",
    "                                   height_shift_range = 0.2,\n",
    "                                   rotation_range = 40,\n",
    "                                   horizontal_flip = True)"
   ]
  },
  {
   "cell_type": "code",
   "execution_count": 4,
   "id": "8d168555",
   "metadata": {},
   "outputs": [
    {
     "name": "stdout",
     "output_type": "stream",
     "text": [
      "Found 2637 images belonging to 2 classes.\n",
      "Found 660 images belonging to 2 classes.\n"
     ]
    }
   ],
   "source": [
    "# validation data should not be augmented\n",
    "test_datagen = ImageDataGenerator(rescale = 1./255)\n",
    "\n",
    "training_set = train_datagen.flow_from_directory('C:/Ajay/documents/Major project/data/train',\n",
    "                                                 target_size = (224, 224),\n",
    "                                                 batch_size = 32,\n",
    "                                                 class_mode = 'categorical')\n",
    "\n",
    "test_set = test_datagen.flow_from_directory('C:/Ajay/documents/Major project/data/test',\n",
    "                                            target_size = (224, 224),\n",
    "                                            batch_size = 32,\n",
    "                                            class_mode = 'categorical')"
   ]
  },
  {
   "cell_type": "code",
   "execution_count": 5,
   "id": "617449bf",
   "metadata": {},
   "outputs": [],
   "source": [
    "X_test, y_test = test_set.next()"
   ]
  },
  {
   "cell_type": "code",
   "execution_count": 6,
   "id": "e41bcbe8",
   "metadata": {},
   "outputs": [],
   "source": [
    "# Generate predictions on a validation set\n",
    "vgg16_preds = vgg16_model.predict(X_test)"
   ]
  },
  {
   "cell_type": "code",
   "execution_count": 7,
   "id": "fcca094b",
   "metadata": {},
   "outputs": [],
   "source": [
    "resnet_preds = resnet_model.predict(X_test)"
   ]
  },
  {
   "cell_type": "code",
   "execution_count": 8,
   "id": "6f24bd31",
   "metadata": {},
   "outputs": [],
   "source": [
    "capsnet_preds = capsnet_model.predict(X_test)"
   ]
  },
  {
   "cell_type": "code",
   "execution_count": 9,
   "id": "869d355d",
   "metadata": {},
   "outputs": [],
   "source": [
    "import numpy as np\n",
    "import pandas as pd\n",
    "# Combine the predictions using a majority voting scheme\n",
    "ensemble_pred = np.round((vgg16_preds + resnet_preds + capsnet_preds) / 3)"
   ]
  },
  {
   "cell_type": "code",
   "execution_count": 10,
   "id": "6f4325a1",
   "metadata": {},
   "outputs": [],
   "source": [
    "# Evaluate the accuracy of the ensemble model\n",
    "accuracy = np.mean(ensemble_pred == y_test)"
   ]
  },
  {
   "cell_type": "code",
   "execution_count": 11,
   "id": "389bf5d7",
   "metadata": {},
   "outputs": [
    {
     "name": "stdout",
     "output_type": "stream",
     "text": [
      "Accuracy of the ensemble model: 0.90625\n"
     ]
    }
   ],
   "source": [
    "print(\"Accuracy of the ensemble model:\", accuracy)"
   ]
  },
  {
   "cell_type": "code",
   "execution_count": 12,
   "id": "78d65557",
   "metadata": {},
   "outputs": [
    {
     "name": "stdout",
     "output_type": "stream",
     "text": [
      "              precision    recall  f1-score   support\n",
      "\n",
      "           0       1.00      0.82      0.90        17\n",
      "           1       0.83      1.00      0.91        15\n",
      "\n",
      "   micro avg       0.91      0.91      0.91        32\n",
      "   macro avg       0.92      0.91      0.91        32\n",
      "weighted avg       0.92      0.91      0.91        32\n",
      " samples avg       0.91      0.91      0.91        32\n",
      "\n"
     ]
    }
   ],
   "source": [
    "# Generate the classification report for the ensemble model\n",
    "from sklearn.metrics import classification_report\n",
    "report = classification_report(y_test, ensemble_pred)\n",
    "\n",
    "print(report)"
   ]
  },
  {
   "cell_type": "code",
   "execution_count": 13,
   "id": "33bc77e5",
   "metadata": {},
   "outputs": [],
   "source": [
    "import numpy as np\n",
    "\n",
    "np.save('ensemble_preds.npy', ensemble_pred)"
   ]
  },
  {
   "cell_type": "code",
   "execution_count": null,
   "id": "4e1de4ee",
   "metadata": {},
   "outputs": [],
   "source": []
  }
 ],
 "metadata": {
  "kernelspec": {
   "display_name": "Python 3 (ipykernel)",
   "language": "python",
   "name": "python3"
  },
  "language_info": {
   "codemirror_mode": {
    "name": "ipython",
    "version": 3
   },
   "file_extension": ".py",
   "mimetype": "text/x-python",
   "name": "python",
   "nbconvert_exporter": "python",
   "pygments_lexer": "ipython3",
   "version": "3.9.15"
  }
 },
 "nbformat": 4,
 "nbformat_minor": 5
}
