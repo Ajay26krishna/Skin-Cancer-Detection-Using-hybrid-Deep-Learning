{
 "cells": [
  {
   "cell_type": "code",
   "execution_count": 1,
   "id": "78d6828b",
   "metadata": {},
   "outputs": [],
   "source": [
    "import numpy as np\n",
    "from tensorflow.keras.preprocessing.image import load_img, img_to_array\n",
    "from tensorflow.keras.applications.vgg16 import preprocess_input as vgg16_preprocess_input\n",
    "from tensorflow.keras.applications.resnet50 import preprocess_input as resnet_preprocess_input"
   ]
  },
  {
   "cell_type": "code",
   "execution_count": 2,
   "id": "d3014472",
   "metadata": {},
   "outputs": [],
   "source": [
    "# Load VGG16 and ResNet models\n",
    "from tensorflow.keras.models import load_model\n",
    "vgg16_model = load_model('vgg16.h5')\n",
    "resnet_model = load_model('resnet.h5')\n",
    "capsnet_model = load_model('capsnet.h5')"
   ]
  },
  {
   "cell_type": "code",
   "execution_count": 3,
   "id": "e679813b",
   "metadata": {},
   "outputs": [],
   "source": [
    "# Load the image and preprocess it\n",
    "img_path = 'C:/Ajay/documents/Major project/data/test/malignant/1.jpg'\n",
    "img = load_img(img_path, target_size=(224, 224))\n",
    "img_array = img_to_array(img)\n",
    "img_array = np.expand_dims(img_array, axis=0)\n",
    "img_array = vgg16_preprocess_input(img_array)\n",
    "img_array = resnet_preprocess_input(img_array)"
   ]
  },
  {
   "cell_type": "code",
   "execution_count": 4,
   "id": "d5677a21",
   "metadata": {},
   "outputs": [],
   "source": [
    "vgg16_pred = vgg16_model.predict(img_array)\n",
    "resnet_pred = resnet_model.predict(img_array)\n",
    "capsnet_pred = capsnet_model.predict(img_array)"
   ]
  },
  {
   "cell_type": "code",
   "execution_count": 5,
   "id": "84d8bc87",
   "metadata": {},
   "outputs": [],
   "source": [
    "# Combine the predictions using a majority voting scheme\n",
    "ensemble_pred = np.round((vgg16_pred + resnet_pred + capsnet_pred) / 3)"
   ]
  },
  {
   "cell_type": "code",
   "execution_count": 6,
   "id": "a0e31854",
   "metadata": {},
   "outputs": [],
   "source": [
    "# Get the prediction for the custom image using the ensemble model\n",
    "custom_pred = np.argmax(ensemble_pred)"
   ]
  },
  {
   "cell_type": "code",
   "execution_count": 7,
   "id": "a8bc78ee",
   "metadata": {},
   "outputs": [
    {
     "name": "stdout",
     "output_type": "stream",
     "text": [
      "The image is classified as malignant.\n"
     ]
    }
   ],
   "source": [
    "# Print the predicted class label for the image\n",
    "if custom_pred == 0:\n",
    "    print(\"The image is classified as benign.\")\n",
    "else:\n",
    "    print(\"The image is classified as malignant.\")"
   ]
  },
  {
   "cell_type": "code",
   "execution_count": null,
   "id": "6ac63754",
   "metadata": {},
   "outputs": [],
   "source": []
  }
 ],
 "metadata": {
  "kernelspec": {
   "display_name": "Python 3 (ipykernel)",
   "language": "python",
   "name": "python3"
  },
  "language_info": {
   "codemirror_mode": {
    "name": "ipython",
    "version": 3
   },
   "file_extension": ".py",
   "mimetype": "text/x-python",
   "name": "python",
   "nbconvert_exporter": "python",
   "pygments_lexer": "ipython3",
   "version": "3.9.15"
  }
 },
 "nbformat": 4,
 "nbformat_minor": 5
}
